{
 "cells": [
  {
   "cell_type": "code",
   "execution_count": 5,
   "id": "78c89b38",
   "metadata": {},
   "outputs": [],
   "source": [
    "from langchain.schema import Document\n",
    "from langchain_ollama import OllamaEmbeddings\n",
    "from langchain_chroma import Chroma"
   ]
  },
  {
   "cell_type": "code",
   "execution_count": 6,
   "id": "5df7da8b",
   "metadata": {},
   "outputs": [],
   "source": [
    "# Create Langchain documents for IPL Players\n",
    "doc1 = Document(\n",
    "    page_content=\"Virat Kohli is one of the most successful and consistant batsman in IPL history, Known for his aggressive batting style and fitness, he has led the Royal Challengers Banglore in multipal seasons\",\n",
    "    metadata={\"team\": \"Royal Challengers Banglore\"}\n",
    ")\n",
    "\n",
    "doc2 = Document(\n",
    "    page_content=\"MS Dhoni, also known as Captain Cool, is renowned for his calm leadership and finishing abilities. He has led Chennai Super Kings to multiple IPL titles with his sharp captaincy.\",\n",
    "    metadata={\"team\": \"Chennai Super Kings\"}\n",
    ")\n",
    "\n",
    "doc3 = Document(\n",
    "    page_content=\"Rohit Sharma, known as the Hitman, is one of the most successful IPL captains. Under his leadership, Mumbai Indians have won several IPL championships.\",\n",
    "    metadata={\"team\": \"Mumbai Indians\"}\n",
    ")\n",
    "\n",
    "doc4 = Document(\n",
    "    page_content=\"AB de Villiers, often called Mr. 360 for his innovative batting, has been a match-winner for Royal Challengers Bangalore with his explosive and unpredictable style.\",\n",
    "    metadata={\"team\": \"Royal Challengers Banglore\"}\n",
    ")\n",
    "\n",
    "doc5 = Document(\n",
    "    page_content=\"David Warner, a destructive opening batsman, played a key role in leading Sunrisers Hyderabad to their first IPL title with his aggressive batting at the top.\",\n",
    "    metadata={\"team\": \"Sunrisers Hyderabad\"}\n",
    ")\n",
    "\n",
    "# Adding bowlers and all-rounders\n",
    "doc6 = Document(\n",
    "    page_content=\"Rashid Khan, one of the most successful T20 bowlers, is known for his deadly leg-spin and variations. He has been a match-winner for Sunrisers Hyderabad and Gujarat Titans.\",\n",
    "    metadata={\"team\": \"Gujarat Titans\"}\n",
    ")\n",
    "\n",
    "doc7 = Document(\n",
    "    page_content=\"Jasprit Bumrah, famous for his yorkers and death bowling skills, has been the backbone of Mumbai Indians' bowling attack and a key factor in their IPL success.\",\n",
    "    metadata={\"team\": \"Mumbai Indians\"}\n",
    ")\n",
    "\n",
    "doc8 = Document(\n",
    "    page_content=\"Andre Russell, a powerful all-rounder, is known for his explosive batting in the death overs and his wicket-taking ability with the ball for Kolkata Knight Riders.\",\n",
    "    metadata={\"team\": \"Kolkata Knight Riders\"}\n",
    ")\n",
    "\n",
    "doc9 = Document(\n",
    "    page_content=\"Hardik Pandya, a dynamic all-rounder, has contributed with both bat and ball. As captain, he led Gujarat Titans to their maiden IPL title in their debut season.\",\n",
    "    metadata={\"team\": \"Gujarat Titans\"}\n",
    ")"
   ]
  },
  {
   "cell_type": "code",
   "execution_count": 7,
   "id": "f9402922",
   "metadata": {},
   "outputs": [],
   "source": [
    "docs = [doc1, doc2, doc3, doc4, doc5, doc6, doc7, doc8, doc9]"
   ]
  },
  {
   "cell_type": "code",
   "execution_count": 9,
   "id": "d8aee53f",
   "metadata": {},
   "outputs": [],
   "source": [
    "vector_store = Chroma(\n",
    "    embedding_function=OllamaEmbeddings(model=\"granite-embedding:latest\"),\n",
    "    persist_directory=\"my_chroma_db\",\n",
    "    collection_name=\"sample\",\n",
    ")"
   ]
  },
  {
   "cell_type": "code",
   "execution_count": 10,
   "id": "9dfab7de",
   "metadata": {},
   "outputs": [
    {
     "data": {
      "text/plain": [
       "['fd9c0a43-fd25-479b-92c9-96f9cc7a0818',\n",
       " '0db9794a-3ce0-46fb-9a14-b414c5bb33d0',\n",
       " '9c57c14b-afeb-4c8a-a0a1-bef4367ef06c',\n",
       " '77567646-f1f5-4949-90d6-41ad1d4aadf3',\n",
       " 'b558315b-cb40-4865-891e-25cbcae41c0a',\n",
       " '6bfc76e8-8de9-440b-84ea-605cc2798104',\n",
       " '315af831-b432-476b-bedf-e74db576491a',\n",
       " 'fe1ae767-8a28-4cbd-bb67-e9333d26cfe2',\n",
       " '74e9eaa1-a7de-4399-a84d-1ce0bfa4c140']"
      ]
     },
     "execution_count": 10,
     "metadata": {},
     "output_type": "execute_result"
    }
   ],
   "source": [
    "vector_store.add_documents(docs)"
   ]
  },
  {
   "cell_type": "code",
   "execution_count": 12,
   "id": "131c086d",
   "metadata": {},
   "outputs": [
    {
     "data": {
      "text/plain": [
       "{'ids': ['fd9c0a43-fd25-479b-92c9-96f9cc7a0818',\n",
       "  '0db9794a-3ce0-46fb-9a14-b414c5bb33d0',\n",
       "  '9c57c14b-afeb-4c8a-a0a1-bef4367ef06c',\n",
       "  '77567646-f1f5-4949-90d6-41ad1d4aadf3',\n",
       "  'b558315b-cb40-4865-891e-25cbcae41c0a',\n",
       "  '6bfc76e8-8de9-440b-84ea-605cc2798104',\n",
       "  '315af831-b432-476b-bedf-e74db576491a',\n",
       "  'fe1ae767-8a28-4cbd-bb67-e9333d26cfe2',\n",
       "  '74e9eaa1-a7de-4399-a84d-1ce0bfa4c140'],\n",
       " 'embeddings': array([[-0.05706651,  0.03764979, -0.0289941 , ..., -0.00361535,\n",
       "         -0.1859273 , -0.00032926],\n",
       "        [-0.0311308 , -0.01481882, -0.06143934, ...,  0.00270519,\n",
       "         -0.22395164,  0.0409937 ],\n",
       "        [-0.01588374,  0.00160781, -0.0041646 , ...,  0.05183189,\n",
       "         -0.22297911, -0.00533846],\n",
       "        ...,\n",
       "        [-0.02195926,  0.0212138 , -0.00302356, ...,  0.03510661,\n",
       "         -0.15233634,  0.01160911],\n",
       "        [-0.07098745, -0.04130313, -0.02500625, ..., -0.04442036,\n",
       "         -0.17559366,  0.06145745],\n",
       "        [-0.00265007, -0.02683378, -0.01468351, ..., -0.00374392,\n",
       "         -0.22262219,  0.052759  ]]),\n",
       " 'documents': ['Virat Kohli is one of the most successful and consistant batsman in IPL history, Known for his aggressive batting style and fitness, he has led the Royal Challengers Banglore in multipal seasons',\n",
       "  'MS Dhoni, also known as Captain Cool, is renowned for his calm leadership and finishing abilities. He has led Chennai Super Kings to multiple IPL titles with his sharp captaincy.',\n",
       "  'Rohit Sharma, known as the Hitman, is one of the most successful IPL captains. Under his leadership, Mumbai Indians have won several IPL championships.',\n",
       "  'AB de Villiers, often called Mr. 360 for his innovative batting, has been a match-winner for Royal Challengers Bangalore with his explosive and unpredictable style.',\n",
       "  'David Warner, a destructive opening batsman, played a key role in leading Sunrisers Hyderabad to their first IPL title with his aggressive batting at the top.',\n",
       "  'Rashid Khan, one of the most successful T20 bowlers, is known for his deadly leg-spin and variations. He has been a match-winner for Sunrisers Hyderabad and Gujarat Titans.',\n",
       "  \"Jasprit Bumrah, famous for his yorkers and death bowling skills, has been the backbone of Mumbai Indians' bowling attack and a key factor in their IPL success.\",\n",
       "  'Andre Russell, a powerful all-rounder, is known for his explosive batting in the death overs and his wicket-taking ability with the ball for Kolkata Knight Riders.',\n",
       "  'Hardik Pandya, a dynamic all-rounder, has contributed with both bat and ball. As captain, he led Gujarat Titans to their maiden IPL title in their debut season.'],\n",
       " 'uris': None,\n",
       " 'included': ['embeddings', 'documents', 'metadatas'],\n",
       " 'data': None,\n",
       " 'metadatas': [{'team': 'Royal Challengers Banglore'},\n",
       "  {'team': 'Chennai Super Kings'},\n",
       "  {'team': 'Mumbai Indians'},\n",
       "  {'team': 'Royal Challengers Banglore'},\n",
       "  {'team': 'Sunrisers Hyderabad'},\n",
       "  {'team': 'Gujarat Titans'},\n",
       "  {'team': 'Mumbai Indians'},\n",
       "  {'team': 'Kolkata Knight Riders'},\n",
       "  {'team': 'Gujarat Titans'}]}"
      ]
     },
     "execution_count": 12,
     "metadata": {},
     "output_type": "execute_result"
    }
   ],
   "source": [
    "vector_store.get(include=['embeddings','documents','metadatas'])"
   ]
  },
  {
   "cell_type": "code",
   "execution_count": 17,
   "id": "8846521d",
   "metadata": {},
   "outputs": [
    {
     "data": {
      "text/plain": [
       "[Document(id='74e9eaa1-a7de-4399-a84d-1ce0bfa4c140', metadata={'team': 'Gujarat Titans'}, page_content='Hardik Pandya, a dynamic all-rounder, has contributed with both bat and ball. As captain, he led Gujarat Titans to their maiden IPL title in their debut season.')]"
      ]
     },
     "execution_count": 17,
     "metadata": {},
     "output_type": "execute_result"
    }
   ],
   "source": [
    "vector_store.similarity_search(\n",
    "    query=\"could you talk about hardik pandya ?\",\n",
    "    k=1\n",
    ")"
   ]
  },
  {
   "cell_type": "code",
   "execution_count": 18,
   "id": "06ed8084",
   "metadata": {},
   "outputs": [
    {
     "data": {
      "text/plain": [
       "[(Document(id='315af831-b432-476b-bedf-e74db576491a', metadata={'team': 'Mumbai Indians'}, page_content=\"Jasprit Bumrah, famous for his yorkers and death bowling skills, has been the backbone of Mumbai Indians' bowling attack and a key factor in their IPL success.\"),\n",
       "  0.5578747987747192),\n",
       " (Document(id='9c57c14b-afeb-4c8a-a0a1-bef4367ef06c', metadata={'team': 'Mumbai Indians'}, page_content='Rohit Sharma, known as the Hitman, is one of the most successful IPL captains. Under his leadership, Mumbai Indians have won several IPL championships.'),\n",
       "  0.6639233231544495)]"
      ]
     },
     "execution_count": 18,
     "metadata": {},
     "output_type": "execute_result"
    }
   ],
   "source": [
    "vector_store.similarity_search_with_score(\n",
    "    query=\"could you talk IPL Bowlers ?\",\n",
    "    k=2\n",
    ")"
   ]
  },
  {
   "cell_type": "code",
   "execution_count": 19,
   "id": "b5775eb7",
   "metadata": {},
   "outputs": [
    {
     "data": {
      "text/plain": [
       "[(Document(id='315af831-b432-476b-bedf-e74db576491a', metadata={'team': 'Mumbai Indians'}, page_content=\"Jasprit Bumrah, famous for his yorkers and death bowling skills, has been the backbone of Mumbai Indians' bowling attack and a key factor in their IPL success.\"),\n",
       "  0.8706372380256653),\n",
       " (Document(id='9c57c14b-afeb-4c8a-a0a1-bef4367ef06c', metadata={'team': 'Mumbai Indians'}, page_content='Rohit Sharma, known as the Hitman, is one of the most successful IPL captains. Under his leadership, Mumbai Indians have won several IPL championships.'),\n",
       "  0.9649860858917236)]"
      ]
     },
     "execution_count": 19,
     "metadata": {},
     "output_type": "execute_result"
    }
   ],
   "source": [
    "vector_store.similarity_search_with_score(\n",
    "    query=\"\",\n",
    "    filter={\"team\": \"Mumbai Indians\"},\n",
    ")"
   ]
  }
 ],
 "metadata": {
  "kernelspec": {
   "display_name": "myenv",
   "language": "python",
   "name": "python3"
  },
  "language_info": {
   "codemirror_mode": {
    "name": "ipython",
    "version": 3
   },
   "file_extension": ".py",
   "mimetype": "text/x-python",
   "name": "python",
   "nbconvert_exporter": "python",
   "pygments_lexer": "ipython3",
   "version": "3.10.11"
  }
 },
 "nbformat": 4,
 "nbformat_minor": 5
}
